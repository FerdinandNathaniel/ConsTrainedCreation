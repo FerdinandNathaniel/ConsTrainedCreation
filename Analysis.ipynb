{
 "cells": [
  {
   "cell_type": "markdown",
   "metadata": {},
   "source": [
    "# Master Thesis - Analyses\n",
    "\n",
    "The following code if for the purpose of within-subject analysis on the quantitative and qualitative data gathered.\n",
    "\n",
    "## Data\n",
    "\n",
    "### Quantitative\n",
    "- CAT\n",
    "- Item ratings {personalised, random, control}\n",
    "\n",
    "### Qualitative\n",
    "- Interview themes\n",
    "\n",
    "## Analyses\n",
    "\n",
    "- CAT\n",
    "    - Inter-rater correlation\n",
    "    - paired t-test (personalised vs random, constraints vs control)\n",
    "- Item ratings\n",
    "    - Personalised vs Random\n",
    "        - Paired t-test\n",
    "    - Constraints vs Control\n",
    "        - Paired t-test\n",
    "- Interview\n",
    "    - Find themes, cross references with data"
   ]
  },
  {
   "cell_type": "code",
   "execution_count": 106,
   "metadata": {},
   "outputs": [],
   "source": [
    "# imports\n",
    "import pandas as pd\n",
    "import krippendorff\n",
    "import numpy as np\n",
    "import math as math\n",
    "from scipy import stats"
   ]
  },
  {
   "cell_type": "markdown",
   "metadata": {},
   "source": [
    "### Data prep"
   ]
  },
  {
   "cell_type": "code",
   "execution_count": 33,
   "metadata": {},
   "outputs": [],
   "source": [
    "# read in data\n",
    "data = pd.read_csv('./Data/Numeric export Lab 2_TOTAL.csv', sep = ';')"
   ]
  },
  {
   "cell_type": "code",
   "execution_count": 34,
   "metadata": {
    "scrolled": true
   },
   "outputs": [
    {
     "data": {
      "text/html": [
       "<div>\n",
       "<style scoped>\n",
       "    .dataframe tbody tr th:only-of-type {\n",
       "        vertical-align: middle;\n",
       "    }\n",
       "\n",
       "    .dataframe tbody tr th {\n",
       "        vertical-align: top;\n",
       "    }\n",
       "\n",
       "    .dataframe thead th {\n",
       "        text-align: right;\n",
       "    }\n",
       "</style>\n",
       "<table border=\"1\" class=\"dataframe\">\n",
       "  <thead>\n",
       "    <tr style=\"text-align: right;\">\n",
       "      <th></th>\n",
       "      <th>rand_round_rating</th>\n",
       "      <th>rand_const_rating</th>\n",
       "      <th>rand_move</th>\n",
       "      <th>rand_CAT_1</th>\n",
       "      <th>rand_CAT_2</th>\n",
       "      <th>rand_CAT_3</th>\n",
       "      <th>pers_round_rating</th>\n",
       "      <th>pers_const_rating</th>\n",
       "      <th>pers_move</th>\n",
       "      <th>pers_CAT_1</th>\n",
       "      <th>pers_CAT_2</th>\n",
       "      <th>pers_CAT_3</th>\n",
       "      <th>control_round_rating</th>\n",
       "      <th>control_move</th>\n",
       "      <th>control_CAT_1</th>\n",
       "      <th>control_CAT_2</th>\n",
       "      <th>control_CAT_3</th>\n",
       "    </tr>\n",
       "    <tr>\n",
       "      <th>ID</th>\n",
       "      <th></th>\n",
       "      <th></th>\n",
       "      <th></th>\n",
       "      <th></th>\n",
       "      <th></th>\n",
       "      <th></th>\n",
       "      <th></th>\n",
       "      <th></th>\n",
       "      <th></th>\n",
       "      <th></th>\n",
       "      <th></th>\n",
       "      <th></th>\n",
       "      <th></th>\n",
       "      <th></th>\n",
       "      <th></th>\n",
       "      <th></th>\n",
       "      <th></th>\n",
       "    </tr>\n",
       "  </thead>\n",
       "  <tbody>\n",
       "    <tr>\n",
       "      <th>1.0</th>\n",
       "      <td>8.0</td>\n",
       "      <td>8.0</td>\n",
       "      <td>Near the end, I got to a knee on the ground an...</td>\n",
       "      <td>6.0</td>\n",
       "      <td>4.0</td>\n",
       "      <td>2.0</td>\n",
       "      <td>6.0</td>\n",
       "      <td>7.0</td>\n",
       "      <td>At some point, I got bored of just making stat...</td>\n",
       "      <td>3.0</td>\n",
       "      <td>2.0</td>\n",
       "      <td>4.0</td>\n",
       "      <td>6.0</td>\n",
       "      <td>Twist on a tango enrosque, keeping it flat and...</td>\n",
       "      <td>6.0</td>\n",
       "      <td>5.0</td>\n",
       "      <td>4.0</td>\n",
       "    </tr>\n",
       "    <tr>\n",
       "      <th>3.0</th>\n",
       "      <td>5.0</td>\n",
       "      <td>7.0</td>\n",
       "      <td>Dont remember one particular movement</td>\n",
       "      <td>1.0</td>\n",
       "      <td>1.0</td>\n",
       "      <td>1.0</td>\n",
       "      <td>8.0</td>\n",
       "      <td>8.0</td>\n",
       "      <td>Not any specific but interesting images</td>\n",
       "      <td>4.0</td>\n",
       "      <td>2.0</td>\n",
       "      <td>1.0</td>\n",
       "      <td>5.0</td>\n",
       "      <td>Balance game</td>\n",
       "      <td>3.0</td>\n",
       "      <td>3.0</td>\n",
       "      <td>2.0</td>\n",
       "    </tr>\n",
       "    <tr>\n",
       "      <th>9.0</th>\n",
       "      <td>7.0</td>\n",
       "      <td>5.0</td>\n",
       "      <td>Rotations of the arms were symbols of both sid...</td>\n",
       "      <td>6.0</td>\n",
       "      <td>5.0</td>\n",
       "      <td>4.0</td>\n",
       "      <td>7.0</td>\n",
       "      <td>8.0</td>\n",
       "      <td>I tried to make lines/shapes and be fluid with...</td>\n",
       "      <td>6.0</td>\n",
       "      <td>4.0</td>\n",
       "      <td>3.0</td>\n",
       "      <td>6.0</td>\n",
       "      <td>My head was trying to do opposite from my arms...</td>\n",
       "      <td>6.0</td>\n",
       "      <td>6.0</td>\n",
       "      <td>4.0</td>\n",
       "    </tr>\n",
       "    <tr>\n",
       "      <th>10.0</th>\n",
       "      <td>6.0</td>\n",
       "      <td>6.0</td>\n",
       "      <td>Steps that resonated in movements in the upper...</td>\n",
       "      <td>2.0</td>\n",
       "      <td>4.0</td>\n",
       "      <td>2.0</td>\n",
       "      <td>4.0</td>\n",
       "      <td>3.0</td>\n",
       "      <td>It was turn that ended up on the floor to than...</td>\n",
       "      <td>4.0</td>\n",
       "      <td>3.0</td>\n",
       "      <td>3.0</td>\n",
       "      <td>5.0</td>\n",
       "      <td>A sequence in the upper body</td>\n",
       "      <td>2.0</td>\n",
       "      <td>3.0</td>\n",
       "      <td>2.0</td>\n",
       "    </tr>\n",
       "    <tr>\n",
       "      <th>32.0</th>\n",
       "      <td>8.0</td>\n",
       "      <td>3.0</td>\n",
       "      <td>Small rotations of the pelvic joints on a stat...</td>\n",
       "      <td>3.0</td>\n",
       "      <td>5.0</td>\n",
       "      <td>5.0</td>\n",
       "      <td>7.0</td>\n",
       "      <td>7.0</td>\n",
       "      <td>Initiating movement in my spine.</td>\n",
       "      <td>3.0</td>\n",
       "      <td>3.0</td>\n",
       "      <td>2.0</td>\n",
       "      <td>6.0</td>\n",
       "      <td>Small rotations of the whole shoulder blades.</td>\n",
       "      <td>3.0</td>\n",
       "      <td>3.0</td>\n",
       "      <td>2.0</td>\n",
       "    </tr>\n",
       "    <tr>\n",
       "      <th>36.0</th>\n",
       "      <td>8.0</td>\n",
       "      <td>7.0</td>\n",
       "      <td>The first movement, working with the rotation ...</td>\n",
       "      <td>4.0</td>\n",
       "      <td>6.0</td>\n",
       "      <td>3.0</td>\n",
       "      <td>10.0</td>\n",
       "      <td>9.0</td>\n",
       "      <td>I love the whole bit of material. I find in th...</td>\n",
       "      <td>4.0</td>\n",
       "      <td>6.0</td>\n",
       "      <td>5.0</td>\n",
       "      <td>7.0</td>\n",
       "      <td>a slightly awkward walk backwards with one foo...</td>\n",
       "      <td>5.0</td>\n",
       "      <td>4.0</td>\n",
       "      <td>3.0</td>\n",
       "    </tr>\n",
       "  </tbody>\n",
       "</table>\n",
       "</div>"
      ],
      "text/plain": [
       "      rand_round_rating  rand_const_rating  \\\n",
       "ID                                           \n",
       "1.0                 8.0                8.0   \n",
       "3.0                 5.0                7.0   \n",
       "9.0                 7.0                5.0   \n",
       "10.0                6.0                6.0   \n",
       "32.0                8.0                3.0   \n",
       "36.0                8.0                7.0   \n",
       "\n",
       "                                              rand_move  rand_CAT_1  \\\n",
       "ID                                                                    \n",
       "1.0   Near the end, I got to a knee on the ground an...         6.0   \n",
       "3.0               Dont remember one particular movement         1.0   \n",
       "9.0   Rotations of the arms were symbols of both sid...         6.0   \n",
       "10.0  Steps that resonated in movements in the upper...         2.0   \n",
       "32.0  Small rotations of the pelvic joints on a stat...         3.0   \n",
       "36.0  The first movement, working with the rotation ...         4.0   \n",
       "\n",
       "      rand_CAT_2  rand_CAT_3  pers_round_rating  pers_const_rating  \\\n",
       "ID                                                                   \n",
       "1.0          4.0         2.0                6.0                7.0   \n",
       "3.0          1.0         1.0                8.0                8.0   \n",
       "9.0          5.0         4.0                7.0                8.0   \n",
       "10.0         4.0         2.0                4.0                3.0   \n",
       "32.0         5.0         5.0                7.0                7.0   \n",
       "36.0         6.0         3.0               10.0                9.0   \n",
       "\n",
       "                                              pers_move  pers_CAT_1  \\\n",
       "ID                                                                    \n",
       "1.0   At some point, I got bored of just making stat...         3.0   \n",
       "3.0             Not any specific but interesting images         4.0   \n",
       "9.0   I tried to make lines/shapes and be fluid with...         6.0   \n",
       "10.0  It was turn that ended up on the floor to than...         4.0   \n",
       "32.0                   Initiating movement in my spine.         3.0   \n",
       "36.0  I love the whole bit of material. I find in th...         4.0   \n",
       "\n",
       "      pers_CAT_2  pers_CAT_3  control_round_rating  \\\n",
       "ID                                                   \n",
       "1.0          2.0         4.0                   6.0   \n",
       "3.0          2.0         1.0                   5.0   \n",
       "9.0          4.0         3.0                   6.0   \n",
       "10.0         3.0         3.0                   5.0   \n",
       "32.0         3.0         2.0                   6.0   \n",
       "36.0         6.0         5.0                   7.0   \n",
       "\n",
       "                                           control_move  control_CAT_1  \\\n",
       "ID                                                                       \n",
       "1.0   Twist on a tango enrosque, keeping it flat and...            6.0   \n",
       "3.0                                        Balance game            3.0   \n",
       "9.0   My head was trying to do opposite from my arms...            6.0   \n",
       "10.0                       A sequence in the upper body            2.0   \n",
       "32.0      Small rotations of the whole shoulder blades.            3.0   \n",
       "36.0  a slightly awkward walk backwards with one foo...            5.0   \n",
       "\n",
       "      control_CAT_2  control_CAT_3  \n",
       "ID                                  \n",
       "1.0             5.0            4.0  \n",
       "3.0             3.0            2.0  \n",
       "9.0             6.0            4.0  \n",
       "10.0            3.0            2.0  \n",
       "32.0            3.0            2.0  \n",
       "36.0            4.0            3.0  "
      ]
     },
     "execution_count": 34,
     "metadata": {},
     "output_type": "execute_result"
    }
   ],
   "source": [
    "# clean data\n",
    "# remove NaN rows/columns\n",
    "data = data.iloc[:6,:18]\n",
    "data.set_index('ID')"
   ]
  },
  {
   "cell_type": "code",
   "execution_count": 41,
   "metadata": {},
   "outputs": [],
   "source": [
    "# split for convenience\n",
    "CAT = data.loc[:,['rand_CAT_1', 'rand_CAT_2', 'rand_CAT_3',\n",
    "                   'pers_CAT_1', 'pers_CAT_2', 'pers_CAT_3',\n",
    "                   'control_CAT_1', 'control_CAT_2', 'control_CAT_3']]\n",
    "ratings = data.loc[:,['rand_round_rating', 'pers_round_rating', 'control_round_rating']]"
   ]
  },
  {
   "cell_type": "markdown",
   "metadata": {},
   "source": [
    "## CAT\n",
    "\n",
    "### Inter rater reliability"
   ]
  },
  {
   "cell_type": "code",
   "execution_count": 78,
   "metadata": {},
   "outputs": [
    {
     "data": {
      "text/plain": [
       "0.45628156565656564"
      ]
     },
     "execution_count": 78,
     "metadata": {},
     "output_type": "execute_result"
    }
   ],
   "source": [
    "# Inter-rater reliability\n",
    "rater_1 = CAT.loc[:,['rand_CAT_1', 'pers_CAT_1', 'control_CAT_1']]\n",
    "rater_2 = CAT.loc[:,['rand_CAT_2', 'pers_CAT_2', 'control_CAT_2']]\n",
    "rater_3 = CAT.loc[:,['rand_CAT_3', 'pers_CAT_3', 'control_CAT_3']]\n",
    "\n",
    "# convert to correct format, rows are raters, columns are ratings\n",
    "rater_1_list = []\n",
    "rater_2_list = []\n",
    "rater_3_list = []\n",
    "for x in range(0, len(rater_1.axes[0])):\n",
    "    for y in range(0,len(rater_1.axes[1])):\n",
    "        rater_1_list.append(rater_1.iloc[x,y])\n",
    "        rater_2_list.append(rater_2.iloc[x,y])\n",
    "        rater_3_list.append(rater_3.iloc[x,y])\n",
    "        \n",
    "raters_T = pd.DataFrame({\n",
    "    'Rater_1' : rater_1_list,\n",
    "    'Rater_2' : rater_2_list,\n",
    "    'Rater_3' : rater_3_list\n",
    "}).T\n",
    "\n",
    "# Correlation [0.45628156565656564] being moderate agreement\n",
    "krippendorff.alpha(raters_T)"
   ]
  },
  {
   "cell_type": "markdown",
   "metadata": {},
   "source": [
    "### Paired t-test\n",
    "\n",
    "- Shapiro-Wilk test to check for assumption of normality\n",
    "- Paired t-test to check for significance in differences means"
   ]
  },
  {
   "cell_type": "code",
   "execution_count": 118,
   "metadata": {},
   "outputs": [],
   "source": [
    "CAT['rand_CAT_mean'] = CAT.loc[:,['rand_CAT_1', 'rand_CAT_2', 'rand_CAT_3']].mean(axis=1)\n",
    "CAT['pers_CAT_mean'] = CAT.loc[:,['pers_CAT_1', 'pers_CAT_2', 'pers_CAT_3']].mean(axis=1)\n",
    "CAT['constr_CAT_mean'] = CAT.loc[:,['rand_CAT_mean', 'pers_CAT_mean']].mean(axis=1)\n",
    "CAT['control_CAT_mean'] = CAT.loc[:,['control_CAT_1', 'control_CAT_2', 'control_CAT_3']].mean(axis=1)"
   ]
  },
  {
   "cell_type": "code",
   "execution_count": 122,
   "metadata": {},
   "outputs": [
    {
     "data": {
      "text/plain": [
       "Ttest_relResult(statistic=-0.40378642654362457, pvalue=0.7030599259725309)"
      ]
     },
     "execution_count": 122,
     "metadata": {},
     "output_type": "execute_result"
    }
   ],
   "source": [
    "# Constraints vs Control\n",
    "\n",
    "# tests of normality\n",
    "stats.shapiro(CAT['constr_CAT_mean']) #pass\n",
    "stats.shapiro(CAT['control_CAT_mean']) #pass\n",
    "\n",
    "# with degrees of freedom n-1 = 5\n",
    "stats.ttest_rel(CAT['constr_CAT_mean'], CAT['control_CAT_mean']) # not significant"
   ]
  },
  {
   "cell_type": "code",
   "execution_count": 125,
   "metadata": {},
   "outputs": [
    {
     "data": {
      "text/plain": [
       "Ttest_relResult(statistic=0.23312620206007822, pvalue=0.8249065272991711)"
      ]
     },
     "execution_count": 125,
     "metadata": {},
     "output_type": "execute_result"
    }
   ],
   "source": [
    "# Personalised vs Random\n",
    "\n",
    "# tests of normality\n",
    "stats.shapiro(CAT['rand_CAT_mean']) #pass\n",
    "stats.shapiro(CAT['pers_CAT_mean']) #pass\n",
    "\n",
    "# with degrees of freedom n-1 = 5\n",
    "stats.ttest_rel(CAT['rand_CAT_mean'], CAT['pers_CAT_mean']) # not significant"
   ]
  },
  {
   "cell_type": "markdown",
   "metadata": {},
   "source": [
    "## Item ratings"
   ]
  },
  {
   "cell_type": "code",
   "execution_count": 115,
   "metadata": {},
   "outputs": [
    {
     "data": {
      "text/plain": [
       "Ttest_relResult(statistic=4.183300132670378, pvalue=0.008627407845019445)"
      ]
     },
     "execution_count": 115,
     "metadata": {},
     "output_type": "execute_result"
    }
   ],
   "source": [
    "# Constraints vs Control\n",
    "\n",
    "# tests of normality\n",
    "stats.shapiro(ratings['constr_mean_rating']) #pass\n",
    "stats.shapiro(ratings['control_round_rating']) #pass\n",
    "\n",
    "# with degrees of freedom n-1 = 5\n",
    "stats.ttest_rel(ratings['constr_mean_rating'], ratings['control_round_rating']) # significant at <0.01"
   ]
  },
  {
   "cell_type": "code",
   "execution_count": 109,
   "metadata": {},
   "outputs": [
    {
     "data": {
      "text/plain": [
       "Ttest_relResult(statistic=0.0, pvalue=1.0)"
      ]
     },
     "execution_count": 109,
     "metadata": {},
     "output_type": "execute_result"
    }
   ],
   "source": [
    "# Personalised vs Random\n",
    "\n",
    "# tests of normality\n",
    "stats.shapiro(ratings['rand_round_rating']) #pass\n",
    "stats.shapiro(ratings['pers_round_rating']) #pass\n",
    "\n",
    "# with degrees of freedom n-1 = 5\n",
    "stats.ttest_rel(ratings['rand_round_rating'], ratings['pers_round_rating']) # extremely not significant"
   ]
  }
 ],
 "metadata": {
  "kernelspec": {
   "display_name": "Python 3",
   "language": "python",
   "name": "python3"
  },
  "language_info": {
   "codemirror_mode": {
    "name": "ipython",
    "version": 3
   },
   "file_extension": ".py",
   "mimetype": "text/x-python",
   "name": "python",
   "nbconvert_exporter": "python",
   "pygments_lexer": "ipython3",
   "version": "3.6.5"
  }
 },
 "nbformat": 4,
 "nbformat_minor": 2
}
